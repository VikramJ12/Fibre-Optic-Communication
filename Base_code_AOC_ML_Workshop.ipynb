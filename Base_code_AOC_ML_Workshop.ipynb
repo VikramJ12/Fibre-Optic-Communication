{
  "nbformat": 4,
  "nbformat_minor": 0,
  "metadata": {
    "colab": {
      "provenance": [],
      "collapsed_sections": [
        "Su0VQCvF6-8d"
      ],
      "include_colab_link": true
    },
    "kernelspec": {
      "name": "python3",
      "display_name": "Python 3"
    },
    "language_info": {
      "name": "python"
    }
  },
  "cells": [
    {
      "cell_type": "markdown",
      "metadata": {
        "id": "view-in-github",
        "colab_type": "text"
      },
      "source": [
        "<a href=\"https://colab.research.google.com/github/VikramJ12/Fibre-Optic-Communication/blob/main/Base_code_AOC_ML_Workshop.ipynb\" target=\"_parent\"><img src=\"https://colab.research.google.com/assets/colab-badge.svg\" alt=\"Open In Colab\"/></a>"
      ]
    },
    {
      "cell_type": "markdown",
      "source": [
        "# 1. Tx: BPSK Modulation\n",
        "\n",
        "x ∈ {+1, -1}, 1 bit per symbol\n",
        "\n",
        "Pr(x = ±1) = 1/2\n",
        "\n",
        "Generate N BPSK symbols randomly"
      ],
      "metadata": {
        "id": "UY21hDotc6OK"
      }
    },
    {
      "cell_type": "code",
      "execution_count": null,
      "metadata": {
        "id": "gWrXynywce7W"
      },
      "outputs": [],
      "source": [
        "import random\n",
        "import matplotlib.pyplot as plt\n",
        "import numpy as np\n",
        "\n",
        "N = 100\n",
        "\n",
        "def generate_bpsk_symbols(N):\n",
        "\n",
        "  return np.array(symbols)\n",
        "\n",
        "psk_symbols = generate_bpsk_symbols(N)\n",
        "\n",
        "#\n",
        "plt.figure(figsize=(8, 6))\n",
        "plt.scatter(psk_symbols.real, psk_symbols.imag, marker='o', color='blue', label='PSK Symbols')\n",
        "plt.xlabel('Real values')\n",
        "plt.ylabel('Imaginary alues')\n",
        "plt.title('PSK Modulation Scatter Plot')\n",
        "plt.grid(True)\n",
        "plt.legend()\n",
        "plt.show()"
      ]
    },
    {
      "cell_type": "markdown",
      "source": [
        "# 2. Channel: Generating Additive Noise\n",
        "\n",
        "Typically noise is considered to be i.i.d. samples of a zero-mean Gaussian random variable. The variance of this random variable determines the energy/power in noise.\n",
        "\n",
        "w ~ $\\mathcal{N}(0,\\sigma^2)$\n",
        "\n",
        "noise power = 20 log σ\n",
        "\n",
        "Received signal is\n",
        "$y = x + w$"
      ],
      "metadata": {
        "id": "q7IgBuAbfPt7"
      }
    },
    {
      "cell_type": "code",
      "source": [
        "\n",
        "\n",
        "SNRdB = 8;\n",
        "\n",
        "def add_noise(symbols, SNRdB):\n",
        "\n",
        "  noise =\n",
        "  noisy_symbols = symbols + noise\n",
        "\n",
        "  return noisy_symbols\n",
        "\n",
        "noisy_symbols = add_noise(psk_symbols, SNRdB)\n",
        "\n",
        "\n",
        "#\n",
        "plt.figure(figsize=(8, 6))\n",
        "plt.scatter(noisy_symbols.real, noisy_symbols.imag, marker='o', color='blue', label='PSK Symbols + Noise')\n",
        "plt.xlabel('Real values')\n",
        "plt.ylabel('Imaginary alues')\n",
        "plt.title('Noisy symbols')\n",
        "plt.grid(True)\n",
        "plt.legend()\n",
        "plt.xlim([-2, 2])\n",
        "plt.ylim([-2, 2])\n",
        "plt.show()"
      ],
      "metadata": {
        "id": "zRX-49YEghR9"
      },
      "execution_count": null,
      "outputs": []
    },
    {
      "cell_type": "markdown",
      "source": [
        "#2.1 Channel: Creating a Non-linear Medium\n",
        "\n",
        "The propagation medium (or the amplifier response) can be non-linear.\n",
        "\n",
        "$y_{NL} = g(y) = g(x + w)$\n",
        "\n",
        "A simple model of the non-linearity can be a polynomial (e.g., Taylor series expansion).\n",
        "$g(y) = \\sum_{i=0}^L a_iy^i$\n",
        "\n"
      ],
      "metadata": {
        "id": "OGsmQoSAhBIN"
      }
    },
    {
      "cell_type": "markdown",
      "source": [
        "2.1.1 Generate a non-linear channel\n",
        "\n",
        "$g(y)=1.5\\tanh(y/1.5)$"
      ],
      "metadata": {
        "id": "w7ZFlhngm0oX"
      }
    },
    {
      "cell_type": "code",
      "source": [
        "# prompt: create a polynomial function\n",
        "\n",
        "def non_linear_channel(input):\n",
        "  output = 1.5*np.tanh(input/1.5)\n",
        "  return output\n",
        "\n",
        "y_values = np.arange(-1, 2, 0.5)\n",
        "y_nl_values =  non_linear_channel(y_values)\n",
        "\n",
        "plt.figure(figsize=(8, 6))\n",
        "plt.plot(y_values, y_nl_values, label='Output amplitude')\n",
        "plt.xlabel('Input')\n",
        "plt.ylabel('Output')\n",
        "plt.title('Non-linear channel response')\n",
        "plt.grid(True)\n",
        "plt.legend()\n",
        "plt.show()"
      ],
      "metadata": {
        "id": "jwiteYhKjJU2"
      },
      "execution_count": null,
      "outputs": []
    },
    {
      "cell_type": "markdown",
      "source": [
        "2.1.2 Perform linear regression to model the non-linear channel using polynomials\n",
        "\n",
        "$\\mathbf{a} = \\arg\\min_{\\bf a} \\|{\\bf y - Pa}\\|^2 + \\lambda \\|{\\bf a}\\|^2$"
      ],
      "metadata": {
        "id": "FuB6vVQNnKCe"
      }
    },
    {
      "cell_type": "code",
      "source": [
        "\n",
        "from sklearn.preprocessing import PolynomialFeatures\n",
        "from sklearn.linear_model import LinearRegression\n",
        "from sklearn.pipeline import make_pipeline\n",
        "\n",
        "def polynomial_regression(training_data, training_label, testing_data, degree):\n",
        "    # Create polynomial features\n",
        "\n",
        "    return testing_label, polyreg\n",
        "\n",
        "def polynomial_function(y, coefficients):\n",
        "  return output\n",
        "\n",
        "\n",
        "degree = 5\n",
        "\n",
        "#Produce unseen data\n",
        "yy_values = np.arange(-2, 2, 0.05)\n",
        "yy_nl_values = non_linear_channel(yy_values)\n",
        "\n",
        "y_pred, model = polynomial_regression(y_nl_values, y_values, yy_nl_values, degree)\n",
        "\n",
        "linear_model = model.named_steps['linearregression']\n",
        "coefficients = linear_model.coef_\n",
        "\n",
        "print(coefficients)\n",
        "\n",
        "#Plot the result\n",
        "plt.figure(figsize=(8, 6))\n",
        "plt.scatter(yy_nl_values, yy_values, marker='o', color='blue', label='Inverse function')\n",
        "plt.plot(yy_values, y_pred, color='black', label=f'Predicted output vs truth')\n",
        "plt.plot(yy_values, polynomial_function(yy_values, coefficients), color='red', label=f'Polynomial Regression (degree={degree})')\n",
        "plt.xlabel('Real values')\n",
        "plt.ylabel('Imaginary values')\n",
        "plt.title('Polynomial Regression Fit')\n",
        "plt.grid(True)\n",
        "plt.legend()\n",
        "plt.show()\n"
      ],
      "metadata": {
        "id": "Y9uAcXPbhiLJ"
      },
      "execution_count": null,
      "outputs": []
    },
    {
      "cell_type": "markdown",
      "source": [
        "2.1.3 Pass the noisy signal through the non-linear channel to get $y_{NL}$"
      ],
      "metadata": {
        "id": "ZeBcbLWU333T"
      }
    },
    {
      "cell_type": "code",
      "source": [
        "symbols = noisy_symbols\n",
        "\n",
        "nl_distorted_symbols = non_linear_channel(symbols.real) + 1j*non_linear_channel(symbols.imag)\n",
        "\n",
        "#\n",
        "plt.figure(figsize=(8, 6))\n",
        "plt.scatter(nl_distorted_symbols.real, nl_distorted_symbols.imag, marker='o', color='blue', label='Symbols')\n",
        "plt.xlabel('Real values')\n",
        "plt.ylabel('Imaginary alues')\n",
        "plt.title('Disrorted symbols')\n",
        "plt.grid(True)\n",
        "plt.legend()\n",
        "plt.show()"
      ],
      "metadata": {
        "id": "D8Uhq3pa4LQt"
      },
      "execution_count": null,
      "outputs": []
    },
    {
      "cell_type": "markdown",
      "source": [
        "2.1.4 Equalize for the channel"
      ],
      "metadata": {
        "id": "Q39sr2Da41zZ"
      }
    },
    {
      "cell_type": "code",
      "source": [
        "equalized_signal = model.predict(nl_distorted_symbols.real.reshape(-1,1,)) + 1j*model.predict(nl_distorted_symbols.imag.reshape(-1,1,))\n",
        "\n",
        "#\n",
        "plt.figure(figsize=(8, 6))\n",
        "plt.scatter(equalized_signal.real, equalized_signal.imag, marker='o', color='blue', label='Symbols')\n",
        "plt.xlabel('Real values')\n",
        "plt.ylabel('Imaginary alues')\n",
        "plt.title('Equalized symbols')\n",
        "plt.grid(True)\n",
        "plt.legend()\n",
        "plt.show()"
      ],
      "metadata": {
        "id": "Pak0nIUS46I2"
      },
      "execution_count": null,
      "outputs": []
    },
    {
      "cell_type": "markdown",
      "source": [
        "# 3. Rx: Demodulation\n",
        "\n",
        "ML or MAP demodulation (for equally likely symbols) is the symbol that has the least distance from the received symbols.\n",
        "\n",
        "$\\hat{x} = \\arg\\min_{x\\in\\{\\pm 1\\}} |x - y|$\n",
        "\n",
        "Bit error rate is the average number of bits in error $\\frac{\\sum_{i=1}^NI(x\\neq\\hat{x})}{N}$"
      ],
      "metadata": {
        "id": "iVoyLXpulTCk"
      }
    },
    {
      "cell_type": "code",
      "source": [
        "# 3. Demodulation\n",
        "\n",
        "constellation = [-1, 1]\n",
        "\n",
        "def demodulate(noisy_symbols, constellation):\n",
        "  return demodulated_symbols\n",
        "\n",
        "\n",
        "\n",
        "def find_BER_BPSK(demodulated_symbols, psk_symbols):\n",
        "  return ber\n",
        "\n",
        "demodulated_symbols = demodulate(noisy_symbols, constellation)\n",
        "ber = find_BER_BPSK(demodulated_symbols, psk_symbols)\n",
        "\n",
        "print(f\"Bit Error Rate (BER): {ber}\")\n",
        "\n",
        "plt.figure(figsize=(8, 6))\n",
        "plt.scatter(demodulated_symbols.real, demodulated_symbols.imag, marker='o', color='blue', label='Demodulated Symbols')\n",
        "plt.xlabel('Real values')\n",
        "plt.ylabel('Imaginary alues')\n",
        "plt.title('Demodulated Symbols')\n",
        "plt.grid(True)\n",
        "plt.legend()\n",
        "plt.xlim([-2, 2])\n",
        "plt.ylim([-2, 2])\n",
        "plt.show()"
      ],
      "metadata": {
        "id": "P5q-xny4nOR7"
      },
      "execution_count": null,
      "outputs": []
    },
    {
      "cell_type": "markdown",
      "source": [
        "# 3.1 Rx: SVM Classifier\n",
        "\n",
        "Learn a hyperplane that separates the two BPSK symbols. The normal to the hyperplane is given by\n",
        "\n",
        "${\\mathbf w} = \\arg\\max_{\\mathbf w} \\min_i ~c_i(\\mathbf{x}^T\\frac{{\\mathbf w}}{\\|{\\mathbf w}\\|}+w_0)$"
      ],
      "metadata": {
        "id": "Y7S1Z8jMfk48"
      }
    },
    {
      "cell_type": "code",
      "source": [
        "\n",
        "from sklearn.svm import SVC\n",
        "\n",
        "\n",
        "X = np.column_stack((noisy_symbols.real, noisy_symbols.imag))  # Features: real and imaginary parts\n",
        "y = psk_symbols\n",
        "\n",
        "# Train SVM classifier\n",
        "\n",
        "\n",
        "# Prediction using the trained model\n",
        "\n",
        "# Evaluate the classifier\n",
        "\n",
        "# Calculate BER based on SVM predictions\n",
        "\n",
        "# Plotting\n",
        "\n",
        "# Plot decision boundary (optional, might not work well for non-linear kernels)\n",
        "\n",
        "plt.xlabel('Real values')\n",
        "plt.ylabel('Imaginary alues')\n",
        "plt.title('SVM classification of BPSK data')\n",
        "plt.grid(True)\n",
        "plt.legend()\n",
        "plt.xlim([-2, 2])\n",
        "plt.ylim([-2, 2])\n",
        "plt.show()"
      ],
      "metadata": {
        "id": "zwPCkmSKZLYU"
      },
      "execution_count": null,
      "outputs": []
    },
    {
      "cell_type": "markdown",
      "source": [
        "# 3.2 Rx: Neural Network Classifier for BPSK\n"
      ],
      "metadata": {
        "id": "Su0VQCvF6-8d"
      }
    },
    {
      "cell_type": "code",
      "source": [
        "import tensorflow as tf\n",
        "from tensorflow import keras\n",
        "from tensorflow.keras.layers import Dense\n",
        "\n",
        "def create_neural_network(training_data, training_label, num_classes):\n",
        "  # Assuming X and y are defined from the previous code\n",
        "\n",
        "  # Convert labels to categorical format if needed\n",
        "  #symbols_categorical = keras.utils.to_categorical(np.where(training_label == 1, 1, 0), num_classes=2)\n",
        "\n",
        "\n",
        "  # Create the neural network model\n",
        "\n",
        "  # Compile the model\n",
        "\n",
        "\n",
        "  # Train the model\n",
        "\n",
        "  # Evaluate the model\n",
        "\n",
        "  return nn_model\n",
        "\n",
        "\n",
        "training_data = noisy_symbols\n",
        "training_label = keras.utils.to_categorical(np.where(psk_symbols == 1, 1, 0), num_classes=2)\n",
        "\n",
        "\n",
        "nn_model = create_neural_network(training_data, training_label, 2)\n",
        "\n",
        "# Make predictions\n",
        "predictions = nn_model.predict(np.column_stack((training_data.real, training_data.imag)))\n",
        "predicted_classes = np.argmax(predictions, axis=1)\n",
        "predicted_symbols_nn = np.where(predicted_classes == 1, 1, -1)\n",
        "\n",
        "#Calculate BER\n",
        "ber_nn = np.sum(psk_symbols != predicted_symbols_nn) / N\n",
        "print(f\"Bit Error Rate (BER) using Neural Network: {ber_nn}\")\n",
        "\n"
      ],
      "metadata": {
        "colab": {
          "base_uri": "https://localhost:8080/"
        },
        "id": "nBRMZE1q7GaT",
        "outputId": "3e69e86d-dfe8-43b4-c748-7f3b928e46e5"
      },
      "execution_count": null,
      "outputs": [
        {
          "output_type": "stream",
          "name": "stdout",
          "text": [
            "Epoch 1/10\n",
            "\u001b[1m1/1\u001b[0m \u001b[32m━━━━━━━━━━━━━━━━━━━━\u001b[0m\u001b[37m\u001b[0m \u001b[1m1s\u001b[0m 1s/step - accuracy: 0.5400 - loss: 0.6987\n",
            "Epoch 2/10\n",
            "\u001b[1m1/1\u001b[0m \u001b[32m━━━━━━━━━━━━━━━━━━━━\u001b[0m\u001b[37m\u001b[0m \u001b[1m0s\u001b[0m 53ms/step - accuracy: 0.7700 - loss: 0.6655\n",
            "Epoch 3/10\n",
            "\u001b[1m1/1\u001b[0m \u001b[32m━━━━━━━━━━━━━━━━━━━━\u001b[0m\u001b[37m\u001b[0m \u001b[1m0s\u001b[0m 57ms/step - accuracy: 1.0000 - loss: 0.6345\n",
            "Epoch 4/10\n",
            "\u001b[1m1/1\u001b[0m \u001b[32m━━━━━━━━━━━━━━━━━━━━\u001b[0m\u001b[37m\u001b[0m \u001b[1m0s\u001b[0m 30ms/step - accuracy: 1.0000 - loss: 0.6047\n",
            "Epoch 5/10\n",
            "\u001b[1m1/1\u001b[0m \u001b[32m━━━━━━━━━━━━━━━━━━━━\u001b[0m\u001b[37m\u001b[0m \u001b[1m0s\u001b[0m 31ms/step - accuracy: 1.0000 - loss: 0.5761\n",
            "Epoch 6/10\n",
            "\u001b[1m1/1\u001b[0m \u001b[32m━━━━━━━━━━━━━━━━━━━━\u001b[0m\u001b[37m\u001b[0m \u001b[1m0s\u001b[0m 60ms/step - accuracy: 1.0000 - loss: 0.5492\n",
            "Epoch 7/10\n",
            "\u001b[1m1/1\u001b[0m \u001b[32m━━━━━━━━━━━━━━━━━━━━\u001b[0m\u001b[37m\u001b[0m \u001b[1m0s\u001b[0m 35ms/step - accuracy: 1.0000 - loss: 0.5237\n",
            "Epoch 8/10\n",
            "\u001b[1m1/1\u001b[0m \u001b[32m━━━━━━━━━━━━━━━━━━━━\u001b[0m\u001b[37m\u001b[0m \u001b[1m0s\u001b[0m 36ms/step - accuracy: 1.0000 - loss: 0.4998\n",
            "Epoch 9/10\n",
            "\u001b[1m1/1\u001b[0m \u001b[32m━━━━━━━━━━━━━━━━━━━━\u001b[0m\u001b[37m\u001b[0m \u001b[1m0s\u001b[0m 53ms/step - accuracy: 1.0000 - loss: 0.4772\n",
            "Epoch 10/10\n",
            "\u001b[1m1/1\u001b[0m \u001b[32m━━━━━━━━━━━━━━━━━━━━\u001b[0m\u001b[37m\u001b[0m \u001b[1m0s\u001b[0m 35ms/step - accuracy: 1.0000 - loss: 0.4558\n",
            "\u001b[1m4/4\u001b[0m \u001b[32m━━━━━━━━━━━━━━━━━━━━\u001b[0m\u001b[37m\u001b[0m \u001b[1m0s\u001b[0m 3ms/step - accuracy: 1.0000 - loss: 0.4367  \n",
            "Test Loss: 0.4352\n",
            "Test Accuracy: 1.0000\n",
            "\u001b[1m4/4\u001b[0m \u001b[32m━━━━━━━━━━━━━━━━━━━━\u001b[0m\u001b[37m\u001b[0m \u001b[1m0s\u001b[0m 14ms/step\n",
            "Bit Error Rate (BER) using Neural Network: 0.0\n"
          ]
        }
      ]
    },
    {
      "cell_type": "markdown",
      "source": [
        "# 4. Link BER Performance\n",
        "\n",
        "Run the entire process multiple times for different values of SNR and observe the BER performance."
      ],
      "metadata": {
        "id": "caXjph0Jrq_B"
      }
    },
    {
      "cell_type": "code",
      "source": [
        "SNRdB_values = range(0, 8)\n",
        "ber_values = []\n",
        "N = 10**4\n",
        "\n",
        "for SNRdB in SNRdB_values:\n",
        "  psk_symbols = generate_bpsk_symbols(N)\n",
        "  noisy_symbols = add_noise(psk_symbols, SNRdB)\n",
        "\n",
        "  X = np.column_stack((noisy_symbols.real, noisy_symbols.imag))\n",
        "  predictions = nn_model.predict(X)\n",
        "  predicted_classes = np.argmax(predictions, axis=1)\n",
        "  demodulated_symbols = np.where(predicted_classes == 1, 1, -1)\n",
        "\n",
        "  #demodulated_symbols = demodulate(noisy_symbols, constellation)\n",
        "  #demodulated_symbols = svm_classifier.predict(np.column_stack((noisy_symbols.real, noisy_symbols.imag)))\n",
        "\n",
        "\n",
        "  ber = find_BER_BPSK(demodulated_symbols, psk_symbols)\n",
        "  ber_values.append(ber)\n",
        "\n",
        "plt.figure(figsize=(8, 6))\n",
        "plt.semilogy(SNRdB_values, ber_values, marker='o', linestyle='-')\n",
        "plt.xlabel('SNR (dB)')\n",
        "plt.ylabel('BER')\n",
        "plt.title('BER Performance')\n",
        "plt.grid(True)\n",
        "plt.show()"
      ],
      "metadata": {
        "colab": {
          "base_uri": "https://localhost:8080/",
          "height": 703
        },
        "id": "OjhLhAUdr2ib",
        "outputId": "222022d0-38e4-418e-9d02-b5997766dfa7"
      },
      "execution_count": null,
      "outputs": [
        {
          "output_type": "stream",
          "name": "stdout",
          "text": [
            "\u001b[1m313/313\u001b[0m \u001b[32m━━━━━━━━━━━━━━━━━━━━\u001b[0m\u001b[37m\u001b[0m \u001b[1m0s\u001b[0m 1ms/step\n",
            "\u001b[1m313/313\u001b[0m \u001b[32m━━━━━━━━━━━━━━━━━━━━\u001b[0m\u001b[37m\u001b[0m \u001b[1m0s\u001b[0m 1ms/step\n",
            "\u001b[1m313/313\u001b[0m \u001b[32m━━━━━━━━━━━━━━━━━━━━\u001b[0m\u001b[37m\u001b[0m \u001b[1m0s\u001b[0m 1ms/step\n",
            "\u001b[1m313/313\u001b[0m \u001b[32m━━━━━━━━━━━━━━━━━━━━\u001b[0m\u001b[37m\u001b[0m \u001b[1m0s\u001b[0m 1ms/step\n",
            "\u001b[1m313/313\u001b[0m \u001b[32m━━━━━━━━━━━━━━━━━━━━\u001b[0m\u001b[37m\u001b[0m \u001b[1m0s\u001b[0m 1ms/step\n",
            "\u001b[1m313/313\u001b[0m \u001b[32m━━━━━━━━━━━━━━━━━━━━\u001b[0m\u001b[37m\u001b[0m \u001b[1m0s\u001b[0m 1ms/step\n",
            "\u001b[1m313/313\u001b[0m \u001b[32m━━━━━━━━━━━━━━━━━━━━\u001b[0m\u001b[37m\u001b[0m \u001b[1m0s\u001b[0m 1ms/step\n",
            "\u001b[1m313/313\u001b[0m \u001b[32m━━━━━━━━━━━━━━━━━━━━\u001b[0m\u001b[37m\u001b[0m \u001b[1m0s\u001b[0m 1ms/step\n"
          ]
        },
        {
          "output_type": "display_data",
          "data": {
            "text/plain": [
              "<Figure size 800x600 with 1 Axes>"
            ],
            "image/png": "[encoded data removed]"
          },
          "metadata": {}
        }
      ]
    }
  ]
}